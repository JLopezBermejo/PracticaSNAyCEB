{
 "cells": [
  {
   "cell_type": "code",
   "execution_count": 1,
   "metadata": {},
   "outputs": [],
   "source": [
    "import networkx as nx\n",
    "import random\n",
    "import copy\n",
    "from tqdm.notebook import tqdm"
   ]
  },
  {
   "cell_type": "markdown",
   "metadata": {},
   "source": [
    "## Create"
   ]
  },
  {
   "cell_type": "code",
   "execution_count": 2,
   "metadata": {},
   "outputs": [],
   "source": [
    "amazon_G = nx.read_graphml('./amazon_graph.graphml')\n",
    "\n",
    "# Minimizar la distancia entre los nodos dentro de una comunidad\n",
    "# Maximizar la distancia entre los nodos de disintas comunidades"
   ]
  },
  {
   "cell_type": "code",
   "execution_count": 3,
   "metadata": {},
   "outputs": [],
   "source": [
    "def create_individuo(nodes_of_graph, adj_matrix, transformation):\n",
    "    individuo =  [None] * len(nodes_of_graph)\n",
    "    for i in range(len(nodes_of_graph)): #el individuo creado con el tipo locus tiene la longitud de los nodos\n",
    "\n",
    "        \n",
    "        nodo_vecino = random.choice(range(len(adj_matrix[i]))) #la matriz de adyacencia tiene los nodos vecinos, los nodos vecinos hay que convertirlos a numeros\n",
    "        while adj_matrix[i][nodo_vecino] == 0 and nodo_vecino != i:\n",
    "            nodo_vecino = random.choice(range(len(adj_matrix[nodo_vecino])))\n",
    "        \n",
    "        \n",
    "        keys = list(transformation.keys())\n",
    "        values = list(transformation.values())\n",
    "        individuo[i] = keys[values.index(nodo_vecino)] # en el gen se pone el aleatorio de los vecinos pero transformado en el indice que le corresponde \n",
    "    return individuo\n",
    "\n",
    "def create(nodes_of_graph, adj_matrix, transformation, N=100): # crea población, la transformacion debe de ser del tipo { numero_de_nodo_real : indice_del_array}, donde el indice del array va de 0 a len(nodos) - 1\n",
    "    new_population = []\n",
    "    for individuo in range(N):\n",
    "        new_population.append(create_individuo(nodes_of_graph, adj_matrix, transformation))\n",
    "    \n",
    "    return new_population"
   ]
  },
  {
   "cell_type": "code",
   "execution_count": 4,
   "metadata": {},
   "outputs": [
    {
     "name": "stdout",
     "output_type": "stream",
     "text": [
      "{'75780': 0, '317458': 1, '186386': 2, '419862': 3, '176159': 4, '204831': 5, '104481': 6, '57383': 7, '401449': 8, '299055': 9, '176184': 10, '542780': 11, '366654': 12, '124992': 13, '16457': 14, '196682': 15, '546890': 16, '546891': 17, '34895': 18, '321619': 19, '112724': 20, '276567': 21, '55386': 22, '374874': 23, '55388': 24, '221281': 25, '432229': 26, '104553': 27, '383087': 28, '335987': 29, '448649': 30, '522378': 31, '59532': 32, '491667': 33, '518306': 34, '309411': 35, '182435': 36, '204966': 37, '532649': 38, '544939': 39, '542899': 40, '172218': 41, '270524': 42, '250046': 43, '204991': 44, '231620': 45, '497867': 46, '186575': 47, '346322': 48, '399572': 49, '276695': 50, '530647': 51, '18650': 52, '252125': 53, '59613': 54, '127199': 55, '379102': 56, '159972': 57, '366824': 58, '116969': 59, '202986': 60, '430314': 61, '350442': 62, '4328': 63, '458993': 64, '30962': 65, '35067': 66, '57600': 67, '217346': 68, '295177': 69, '49424': 70, '278': 71, '123159': 72, '321818': 73, '321821': 74, '127262': 75, '321826': 76, '370979': 77, '352552': 78, '352553': 79, '151849': 80, '471336': 81, '246060': 82, '123181': 83, '190765': 84, '123183': 85, '379184': 86, '149809': 87, '141618': 88, '45362': 89, '92472': 90, '342330': 91, '198973': 92, '84285': 93, '141635': 94, '258382': 95, '371029': 96, '108892': 97, '14686': 98, '272735': 99, '340331': 100, '59759': 101, '43379': 102, '385399': 103, '41336': 104, '153979': 105, '418177': 106, '145797': 107, '401798': 108, '504199': 109, '377247': 110, '416162': 111, '246180': 112, '33191': 113, '440745': 114, '489905': 115, '2486': 116, '256445': 117, '16832': 118, '541122': 119, '502212': 120, '313801': 121, '186827': 122, '326093': 123, '219603': 124, '446932': 125, '33251': 126, '35308': 127, '45561': 128, '80379': 129, '428546': 130, '412163': 131, '289285': 132, '203272': 133, '434697': 134, '59912': 135, '498193': 136, '475666': 137, '277024': 138, '117287': 139, '272957': 140, '119359': 141, '326211': 142, '363079': 143, '209480': 144, '496201': 145, '330328': 146, '154202': 147, '299611': 148, '504412': 149, '313954': 150, '221801': 151, '262774': 152, '219781': 153, '182923': 154, '434830': 155, '256660': 156, '166549': 157, '539292': 158, '440989': 159, '12959': 160, '109222': 161, '166566': 162, '121514': 163, '29354': 164, '359086': 165, '430767': 166, '51902': 167, '150207': 168, '301761': 169, '428737': 170, '99026': 171, '293587': 172, '84693': 173, '463576': 174, '512729': 175, '193240': 176, '465629': 177, '383731': 178, '447224': 179, '500473': 180, '365309': 181, '318212': 182, '211717': 183, '389895': 184, '217871': 185, '111376': 186, '543516': 187, '181025': 188, '123681': 189, '142115': 190, '287524': 191, '275237': 192, '523046': 193, '138024': 194, '365354': 195, '252719': 196, '60211': 197, '273209': 198, '301886': 199, '301889': 200, '295752': 201, '127821': 202, '115533': 203, '426835': 204, '152407': 205, '287582': 206, '52064': 207, '244578': 208, '271203': 209, '189286': 210, '84839': 211, '265066': 212, '205676': 213, '285549': 214, '99182': 215, '80756': 216, '371573': 217, '230262': 218, '97140': 219, '70522': 220, '314250': 221, '154509': 222, '29586': 223, '238491': 224, '451488': 225, '33710': 226, '263093': 227, '535477': 228, '127928': 229, '414657': 230, '428993': 231, '443332': 232, '334788': 233, '402379': 234, '504784': 235, '519126': 236, '5081': 237, '310236': 238, '379869': 239, '185312': 240, '285669': 241, '168941': 242, '353264': 243, '470004': 244, '541690': 245, '373756': 246, '211967': 247, '48131': 248, '105481': 249, '336905': 250, '205838': 251, '136210': 252, '109595': 253, '433190': 254, '373799': 255, '203818': 256, '119854': 257, '123953': 258, '355378': 259, '361524': 260, '19509': 261, '238657': 262, '238665': 263, '461898': 264, '318538': 265, '199759': 266, '511063': 267, '216152': 268, '285798': 269, '277617': 270, '500861': 271, '500862': 272, '500865': 273, '500866': 274, '500867': 275, '296069': 276, '74895': 277, '263317': 278, '289953': 279, '93356': 280, '296111': 281, '113840': 282, '525489': 283, '525490': 284, '326849': 285, '95427': 286, '435398': 287, '545994': 288, '545995': 289, '222414': 290, '150736': 291, '484561': 292, '277713': 293, '72915': 294, '72916': 295, '535762': 296, '396502': 297, '60627': 298, '326874': 299, '480478': 300, '480479': 301, '255202': 302, '226541': 303, '27890': 304, '181492': 305, '242933': 306, '343306': 307, '298254': 308, '392463': 309, '52500': 310, '279830': 311, '482584': 312, '339225': 313, '21786': 314, '271643': 315, '423198': 316, '191775': 317, '197919': 318, '476448': 319, '52511': 320, '460073': 321, '511278': 322, '9526': 323, '482622': 324, '542026': 325, '384330': 326, '81228': 327, '326988': 328, '335183': 329, '443731': 330, '451931': 331, '204126': 332, '314719': 333, '216422': 334, '64879': 335, '273775': 336, '329078': 337, '38265': 338, '85375': 339, '116096': 340, '462210': 341, '230788': 342, '85382': 343, '85383': 344, '423306': 345, '30093': 346, '236947': 347, '447892': 348, '396693': 349, '275861': 350, '396697': 351, '196008': 352, '46508': 353, '417198': 354, '527792': 355, '380338': 356, '521655': 357, '112056': 358, '261562': 359, '325052': 360, '449985': 361, '67016': 362, '306636': 363, '394703': 364, '404948': 365, '478676': 366, '126430': 367, '185822': 368, '126433': 369, '126438': 370, '126441': 371, '42473': 372, '95730': 373, '179698': 374, '427507': 375, '294393': 376, '519686': 377, '298507': 378, '538129': 379, '71187': 380, '187924': 381, '85524': 382, '390680': 383, '214555': 384, '19999': 385, '9762': 386, '52785': 387, '83510': 388, '237111': 389, '310851': 390, '347716': 391, '165463': 392, '304727': 393, '403034': 394, '470620': 395, '58975': 396, '58977': 397, '542319': 398, '452208': 399, '106100': 400, '18041': 401, '394886': 402, '429708': 403, '458382': 404, '458383': 405, '132756': 406, '122517': 407, '132763': 408, '186022': 409, '482986': 410, '313006': 411, '482998': 412, '405178': 413, '30398': 414, '280255': 415, '83649': 416, '511689': 417, '114378': 418, '114379': 419, '448214': 420, '485080': 421, '69337': 422, '317146': 423, '108259': 424, '370416': 425, '417521': 426, '14073': 427, '14076': 428, '483076': 429, '409356': 430, '401165': 431, '38671': 432, '401170': 433, '401173': 434, '294679': 435, '98081': 436, '120615': 437, '345901': 438, '393031': 439, '208714': 440, '229209': 441, '137050': 442, '268123': 443, '446298': 444, '28513': 445, '44908': 446, '85871': 447, '401268': 448, '495476': 449, '110453': 450, '120699': 451, '96125': 452, '503684': 453, '77701': 454, '59285': 455, '98199': 456, '536482': 457, '542633': 458, '473001': 459, '300975': 460, '317367': 461, '423864': 462, '182201': 463, '83906': 464, '161737': 465, '225233': 466, '380882': 467, '51157': 468, '313307': 469, '30688': 470, '30690': 471, '51175': 472, '67572': 473, '79870': 474}\n"
     ]
    }
   ],
   "source": [
    "conversiones = {}\n",
    "for i, nodo in enumerate(amazon_G.nodes):\n",
    "    conversiones[nodo] = i\n",
    "print(conversiones)"
   ]
  },
  {
   "cell_type": "code",
   "execution_count": 5,
   "metadata": {},
   "outputs": [],
   "source": [
    "A = nx.to_numpy_array(amazon_G)"
   ]
  },
  {
   "cell_type": "code",
   "execution_count": 6,
   "metadata": {},
   "outputs": [],
   "source": [
    "pop = create(amazon_G.nodes, A, conversiones)"
   ]
  },
  {
   "cell_type": "markdown",
   "metadata": {},
   "source": [
    "## Fitness"
   ]
  },
  {
   "cell_type": "code",
   "execution_count": 7,
   "metadata": {},
   "outputs": [],
   "source": [
    "def convert_individuo(individuo_raw, conversiones):\n",
    "    new_individuo = [None] * len(individuo_raw)\n",
    "    for i in range(len(individuo_raw)):\n",
    "        new_individuo[i] = conversiones.get(str(individuo_raw[i]))\n",
    "    \n",
    "    return new_individuo\n",
    "def unconvert_individuo(individuo, conversiones):\n",
    "    individuo_raw =  [None] * len(individuo)\n",
    "    keys = list(conversiones.keys())\n",
    "    values = list(conversiones.values())\n",
    "    for i in range(len(individuo)):\n",
    "        individuo_raw[i] = keys[values.index(individuo[i])]\n",
    "    return individuo_raw\n",
    "\n",
    "def get_comunidades(individuo):\n",
    "\n",
    "    G = nx.Graph()\n",
    "\n",
    "    for i in range(len(individuo)):\n",
    "        G.add_edge(i, individuo[i])\n",
    "\n",
    "    comunidades = list(nx.connected_components(G))\n",
    "    return comunidades\n",
    "\n",
    "def get_cs(aristas_of_min_one_node_in_comunity, nodos_de_la_comunidad):\n",
    "    cs = 0\n",
    "    for aristas in aristas_of_min_one_node_in_comunity:\n",
    "        if aristas[0] in nodos_de_la_comunidad and aristas[1] not in nodos_de_la_comunidad:\n",
    "            cs += 1\n",
    "            \n",
    "        #elif aristas[1] in nodos_de_la_comunidad and aristas[0] not in nodos_de_la_comunidad:\n",
    "        #    cs += 1\n",
    "    return cs\n",
    "\n",
    "def get_ms(aristas_of_min_one_node_in_comunity, nodos_de_la_comunidad):\n",
    "    ms = 0\n",
    "    for aristas in aristas_of_min_one_node_in_comunity:\n",
    "        if aristas[0] in nodos_de_la_comunidad and aristas[1] in nodos_de_la_comunidad:\n",
    "            ms += 1\n",
    "            \n",
    "        \n",
    "    return ms"
   ]
  },
  {
   "cell_type": "code",
   "execution_count": 8,
   "metadata": {},
   "outputs": [],
   "source": [
    "def fit_conductance(grafo,individuo,conversiones):\n",
    "    conductance = 0\n",
    "    individuo_converted = convert_individuo(individuo, conversiones)\n",
    "    comunidades = get_comunidades(individuo_converted)\n",
    "    for comunidad in comunidades:\n",
    "        aristas_of_min_one_node_in_comunity = []\n",
    "        comunidad_desconvertida = unconvert_individuo(list(comunidad), conversiones)\n",
    "        for nodo_of_comunity in comunidad_desconvertida:\n",
    "\n",
    "            aristas_of_min_one_node_in_comunity.append(list(grafo.edges(str(nodo_of_comunity)))[0])\n",
    "        #aqui ya tenemos las aristas de los nodos para poder sacar el sm\n",
    "        cs_community = get_cs(aristas_of_min_one_node_in_comunity, comunidad_desconvertida)\n",
    "        ms_community = get_ms(aristas_of_min_one_node_in_comunity, comunidad_desconvertida)\n",
    "        conductance += cs_community / (2*ms_community + cs_community)\n",
    "        #\n",
    "    \n",
    "    return conductance\n",
    "        \n",
    "        \n",
    "def fit_expansion(grafo,individuo,conversiones):\n",
    "    expansion = 0\n",
    "    individuo_converted = convert_individuo(individuo, conversiones)\n",
    "    comunidades = get_comunidades(individuo_converted)\n",
    "    for comunidad in comunidades:\n",
    "        aristas_of_min_one_node_in_comunity = []\n",
    "        comunidad_desconvertida = unconvert_individuo(list(comunidad), conversiones)\n",
    "        for nodo_of_comunity in comunidad_desconvertida:\n",
    "\n",
    "            aristas_of_min_one_node_in_comunity.append(list(grafo.edges(str(nodo_of_comunity)))[0])\n",
    "        #aqui ya tenemos las aristas de los nodos para poder sacar el sm\n",
    "        cs_community = get_cs(aristas_of_min_one_node_in_comunity, comunidad_desconvertida)\n",
    "        ns_community = len(comunidad_desconvertida)\n",
    "        expansion += cs_community / ns_community\n",
    "        #\n",
    "    \n",
    "    return expansion\n",
    "\n",
    "\n",
    "def fit_average_odf(grafo,individuo,conversiones):\n",
    "    average_odf = 0\n",
    "    individuo_converted = convert_individuo(individuo, conversiones)\n",
    "    comunidades = get_comunidades(individuo_converted)\n",
    "    for comunidad in comunidades:\n",
    "        comunidad_desconvertida = unconvert_individuo(list(comunidad), conversiones)\n",
    "        sum_nodos = 0\n",
    "        for nodo_of_comunity in comunidad_desconvertida:\n",
    "            aristas_del_nodo = list(grafo.edges(str(nodo_of_comunity)))[0]\n",
    "            \n",
    "            sum_nodos += get_cs(aristas_del_nodo,nodo_of_comunity) / len(aristas_del_nodo)\n",
    "            #aristas_of_min_one_node_in_comunity.append(list(grafo.edges(str(nodo_of_comunity)))[0])\n",
    "        average_odf += sum_nodos / len(comunidad)\n",
    "        \n",
    "        #aqui ya tenemos las aristas de los nodos para poder sacar el sm\n",
    "        \n",
    "        #\n",
    "    \n",
    "    return average_odf\n",
    "\n",
    "def fit_Q(grafo,individuo,conversiones):\n",
    "    Q = 0\n",
    "    individuo_converted = convert_individuo(individuo, conversiones)\n",
    "    comunidades = get_comunidades(individuo_converted)\n",
    "    for comunidad in comunidades:\n",
    "        aristas_of_min_one_node_in_comunity = []\n",
    "        comunidad_desconvertida = unconvert_individuo(list(comunidad), conversiones)\n",
    "        n_aristas = 0\n",
    "        for nodo_of_comunity in comunidad_desconvertida:\n",
    "            n_aristas += len(list(grafo.edges(str(nodo_of_comunity)))[0])\n",
    "            aristas_of_min_one_node_in_comunity.append(list(grafo.edges(str(nodo_of_comunity)))[0])\n",
    "        \n",
    "        ms_community = get_ms(aristas_of_min_one_node_in_comunity, comunidad_desconvertida)\n",
    "        cs_community = get_cs(aristas_of_min_one_node_in_comunity, comunidad_desconvertida)\n",
    "        \n",
    "        Q += ((ms_community/n_aristas) - (((ms_community + cs_community)/(2*n_aristas))**2))\n",
    "    \n",
    "    return Q"
   ]
  },
  {
   "cell_type": "markdown",
   "metadata": {},
   "source": [
    "## Select, Mutate y Crossover"
   ]
  },
  {
   "cell_type": "code",
   "execution_count": 9,
   "metadata": {},
   "outputs": [],
   "source": [
    "def select (pop, fits, T): # devuelve un individuo seleccionado por torneo, devuelve una copia para evitar efectos laterales\n",
    "    seleccionados = random.sample(pop, T) #los 3 aleatorios\n",
    "    for i, indiv in enumerate(seleccionados):\n",
    "        es_dominante = True\n",
    "        for j, indiv2 in enumerate(seleccionados): \n",
    "            if i == j:\n",
    "                continue\n",
    "            \n",
    "            if fits[i][0] > fits[j][0] and fits[i][1] > fits[j][1]:\n",
    "                es_dominante = (True and es_dominante)\n",
    "            else:\n",
    "                es_dominante = (False and es_dominante)\n",
    "        if es_dominante:\n",
    "            return indiv\n",
    "    return random.choice(seleccionados)"
   ]
  },
  {
   "cell_type": "code",
   "execution_count": 10,
   "metadata": {},
   "outputs": [],
   "source": [
    "def mutate (grafo, ind, pmut, transformation): # la mutación consistirá en cambiar un elemento por otro posible nodo con el que este conectado\n",
    "    probs = [random.random() for prob in range(len(ind))]\n",
    "    nuevo_elem = copy.copy(ind)\n",
    "    adj_matrix = nx.to_numpy_array(grafo)\n",
    "    for i, probability in enumerate(probs):\n",
    "      if probability < pmut:\n",
    "            \n",
    "        nodo_vecino = random.choice(range(len(adj_matrix[i]))) #la matriz de adyacencia tiene los nodos vecinos, los nodos vecinos hay que convertirlos a numeros\n",
    "        \n",
    "        while adj_matrix[i][nodo_vecino] == 0 and nodo_vecino != i:\n",
    "            nodo_vecino = random.choice(range(len(adj_matrix[nodo_vecino])))\n",
    "        \n",
    "        keys = list(transformation.keys())\n",
    "        values = list(transformation.values())\n",
    "        nuevo_elem[i] = keys[values.index(nodo_vecino)] # en el gen se pone el aleatorio de los vecinos pero transformado en el indice que le corresponde \n",
    "    return nuevo_elem"
   ]
  },
  {
   "cell_type": "code",
   "execution_count": 11,
   "metadata": {},
   "outputs": [],
   "source": [
    "def crossover (ind1, ind2, pcross, n_puntos = 1):\n",
    "    copia_in1 = copy.copy(ind1)\n",
    "    copia_in2 = copy.copy(ind2)\n",
    "    if random.random() < pcross:\n",
    "      punto = len(ind1) // (n_puntos+1)\n",
    "      for i in range(n_puntos):\n",
    "        index_fin = punto*(i+2)\n",
    "        index_inicio = punto*(i+1)\n",
    "        if index_fin < len(ind1):\n",
    "          aux = copia_in1[index_inicio:index_fin]\n",
    "          copia_in1[index_inicio:index_fin] = copia_in2[index_inicio:index_fin]\n",
    "          copia_in2[index_inicio:index_fin] = aux\n",
    "        else:\n",
    "          aux = copia_in1[index_inicio:]\n",
    "          copia_in1[index_inicio:] = copia_in2[index_inicio:]\n",
    "          copia_in2[index_inicio:] = aux\n",
    "    return copia_in1, copia_in2"
   ]
  },
  {
   "cell_type": "markdown",
   "metadata": {},
   "source": [
    "# Evolve"
   ]
  },
  {
   "cell_type": "code",
   "execution_count": 12,
   "metadata": {},
   "outputs": [],
   "source": [
    "def dominates(individual_A, individual_B):\n",
    "    fit1_A, fit2_A = individual_A\n",
    "    fit1_B, fit2_B = individual_B\n",
    "\n",
    "    if fit1_B >= fit1_A and fit2_B >= fit2_A and (fit1_B > fit1_A or fit2_B > fit2_A):\n",
    "        return True\n",
    "    else:\n",
    "        return False\n",
    "\n",
    "def get_pareto_front(pop, fits):\n",
    "    pareto_front = []\n",
    "    pareto_fits = []\n",
    "    for i, fit in enumerate(fits):\n",
    "        if not any(dominates(fit, fits[j]) for j in range(len(pop)) if i != j):\n",
    "            pareto_front.append(pop[i])\n",
    "            pareto_fits.append(fits[i])\n",
    "    return pareto_front, pareto_fits"
   ]
  },
  {
   "cell_type": "markdown",
   "metadata": {},
   "source": [
    "Esta funcion añade a la poblacion de la siguiente generacion los individuos restantes para que de el tamaño de la poblacion total"
   ]
  },
  {
   "cell_type": "code",
   "execution_count": 13,
   "metadata": {},
   "outputs": [],
   "source": [
    "import math\n",
    "def get_pareto_fronts(pop, fits):\n",
    "    pareto_fronts = []\n",
    "    pareto_fits = []\n",
    "\n",
    "    remaining_pop = copy.copy(pop)\n",
    "    remaining_fits = copy.copy(fits)\n",
    "\n",
    "    while remaining_pop:\n",
    "        current_pareto, current_fits = get_pareto_front(remaining_pop, remaining_fits)\n",
    "        pareto_fronts.append(current_pareto)\n",
    "        pareto_fits.append(current_fits)\n",
    "\n",
    "        indices_to_remove = [remaining_pop.index(ind) for ind in current_pareto]\n",
    "        remaining_pop = [ind for i, ind in enumerate(remaining_pop) if i not in indices_to_remove]\n",
    "        remaining_fits = [fit for i, fit in enumerate(remaining_fits) if i not in indices_to_remove]\n",
    "\n",
    "    return pareto_fronts, pareto_fits\n",
    "\n",
    "def select_resto_pop(len_pop, len_pareto_front, pop, fits, T=3):\n",
    "    num_of_pop_to_fill = len_pop - len_pareto_front\n",
    "    pop_fill = []\n",
    "    for _ in range(num_of_pop_to_fill):\n",
    "        ind = select(pop, fits, T)\n",
    "        pop_fill.append(ind)\n",
    "    return pop_fill"
   ]
  },
  {
   "cell_type": "code",
   "execution_count": 58,
   "metadata": {},
   "outputs": [],
   "source": [
    "def evolve(pop, fit1, fit2, grafo, conversiones, T=3, pcross=0.8, pmut=0.2, n_puntos=1, n_gen=10, fit1_maximize=False, fit2_maximize=False):\n",
    "    fitness1 = fit1 if fit1_maximize else lambda grafo, ind, conversione: 1 / (fit1(grafo, ind, conversione) + 1e-10)\n",
    "    fitness2 = fit2 if fit2_maximize else lambda grafo, ind, conversione: 1 / (fit2(grafo, ind, conversione) + 1e-10)\n",
    "\n",
    "    max_len = len(pop)\n",
    "\n",
    "\n",
    "    for n in range(n_gen):\n",
    "        print(f\"N_GEN = {n}\")\n",
    "        new_pop = []\n",
    "        fits = [(fitness1(grafo, ind, conversiones), fitness2(grafo, ind, conversiones)) for ind in pop]\n",
    "\n",
    "        paretos = get_pareto_fronts(pop, fits)\n",
    "\n",
    "        if len(paretos[0]) >= 5:\n",
    "            i = 1\n",
    "            print(len(paretos[0][0]))\n",
    "            for (pareto_pop, pareto_fits) in zip(*paretos):\n",
    "                for _ in range(len(pop) // ((i+1)*2)):\n",
    "                    if T <= len(pareto_pop):\n",
    "                        parent1 = select(pareto_pop, pareto_fits, T)\n",
    "                        parent2 = select(pareto_pop, pareto_fits, T)\n",
    "                    else:\n",
    "                        parent1 = select(pareto_pop, pareto_fits, len(pareto_pop))\n",
    "                        parent2 = select(pareto_pop, pareto_fits, len(pareto_pop))\n",
    "\n",
    "                    offspring1, offspring2 = crossover(parent1, parent2, pcross=pcross, n_puntos=n_puntos)\n",
    "\n",
    "                    offspring1 = mutate(amazon_G, offspring1, pmut=pmut, transformation=conversiones)\n",
    "                    offspring2 = mutate(amazon_G, offspring2, pmut=pmut, transformation=conversiones)\n",
    "\n",
    "                    new_pop.extend([offspring1, offspring2])\n",
    "\n",
    "                pop = new_pop\n",
    "\n",
    "                i += 1\n",
    "                if len(new_pop) >= max_len:\n",
    "                    pop = new_pop[:max_len]\n",
    "                    break\n",
    "    \n",
    "    return pop\n",
    "    "
   ]
  },
  {
   "cell_type": "code",
   "execution_count": 59,
   "metadata": {},
   "outputs": [
    {
     "name": "stdout",
     "output_type": "stream",
     "text": [
      "N_GEN = 0\n",
      "5\n",
      "N_GEN = 1\n",
      "5\n",
      "N_GEN = 2\n",
      "5\n",
      "N_GEN = 3\n",
      "11\n",
      "N_GEN = 4\n",
      "5\n",
      "N_GEN = 5\n",
      "8\n",
      "N_GEN = 6\n",
      "5\n",
      "N_GEN = 7\n",
      "8\n",
      "N_GEN = 8\n",
      "1\n",
      "N_GEN = 9\n",
      "4\n",
      "N_GEN = 10\n",
      "4\n",
      "N_GEN = 11\n",
      "5\n",
      "N_GEN = 12\n",
      "7\n",
      "N_GEN = 13\n",
      "7\n",
      "N_GEN = 14\n",
      "3\n",
      "N_GEN = 15\n",
      "4\n",
      "N_GEN = 16\n",
      "4\n",
      "N_GEN = 17\n",
      "6\n",
      "N_GEN = 18\n",
      "5\n",
      "N_GEN = 19\n",
      "5\n",
      "N_GEN = 20\n",
      "7\n",
      "N_GEN = 21\n",
      "6\n",
      "N_GEN = 22\n",
      "6\n",
      "N_GEN = 23\n",
      "5\n",
      "N_GEN = 24\n",
      "7\n",
      "N_GEN = 25\n",
      "5\n",
      "N_GEN = 26\n",
      "6\n",
      "N_GEN = 27\n",
      "7\n",
      "N_GEN = 28\n",
      "11\n",
      "N_GEN = 29\n",
      "6\n",
      "N_GEN = 30\n",
      "6\n",
      "N_GEN = 31\n",
      "5\n",
      "N_GEN = 32\n",
      "3\n",
      "N_GEN = 33\n",
      "4\n",
      "N_GEN = 34\n",
      "7\n",
      "N_GEN = 35\n",
      "6\n",
      "N_GEN = 36\n",
      "7\n",
      "N_GEN = 37\n",
      "8\n",
      "N_GEN = 38\n",
      "6\n",
      "N_GEN = 39\n",
      "5\n",
      "N_GEN = 40\n",
      "4\n",
      "N_GEN = 41\n",
      "8\n",
      "N_GEN = 42\n",
      "5\n",
      "N_GEN = 43\n",
      "5\n",
      "N_GEN = 44\n",
      "6\n",
      "N_GEN = 45\n",
      "10\n",
      "N_GEN = 46\n",
      "4\n",
      "N_GEN = 47\n",
      "9\n",
      "N_GEN = 48\n",
      "6\n",
      "N_GEN = 49\n",
      "5\n"
     ]
    }
   ],
   "source": [
    "evolved_pop = evolve(pop, fit_average_odf, fit_Q, amazon_G, conversiones, T=3, n_gen=50, fit2_maximize=True, pcross=0.3)\n",
    "# evolved_pop"
   ]
  },
  {
   "cell_type": "code",
   "execution_count": 61,
   "metadata": {},
   "outputs": [
    {
     "name": "stdout",
     "output_type": "stream",
     "text": [
      "long 100\n",
      "fit1 : [12.119506398744015, 12.755643212996153, 14.931888169301963, 12.911196001251517, 13.150754542125846, 10.663022931884827, 11.583636792904526, 12.001816863495756, 11.739823656735423, 12.944298980589304, 13.186650206059435, 12.397001901607164, 13.794579642064162, 11.731225718725717, 10.451594828067941, 11.593031456847246, 12.788236885663355, 13.0295636338206, 11.425686535686538, 14.048946192696192, 15.142021720969089, 12.165286253134548, 12.641364191364191, 11.459061300345459, 14.04156195928255, 16.379012572394927, 14.345794775400039, 11.724971556221554, 14.246702725379194, 13.835137085137085, 11.496295923312053, 11.760129515979898, 11.70108298564181, 10.72887099284158, 13.31970809454825, 12.229193722943723, 11.981269465828289, 12.507814407814406, 11.816512776439245, 14.012866338138569, 12.789514104316737, 12.730736234140965, 15.381159410764674, 11.914601180629406, 14.092765432451964, 12.607273282273281, 12.30402105849087, 10.555718969750131, 10.804063858398225, 13.06785694310849, 17.614790764790765, 15.05381735137927, 16.5011538298303, 14.495292207792208, 12.552895246515936, 11.189710925888056, 17.353551644715438, 11.802642618819089, 14.791117216117215, 15.171582113706727, 13.698195279429292, 11.198730973421377, 13.896482683982681, 13.000473442965703, 12.320441546757337, 13.368985181485181, 14.127775623499307, 13.103682403500915, 14.479016498637241, 14.949689893439892, 11.652545371295373, 12.754524233936001, 15.947427994710603, 14.79232193245351, 11.979430128694833, 16.602597320979676, 15.237745587745584, 15.116390919022496, 12.945800368214162, 12.564131797321451, 15.194162781662781, 14.441328728461079, 16.808003911293383, 13.458325008325005, 13.781883108721344, 13.1667151475975, 13.626367053998631, 13.018701873461936, 14.09371896219722, 14.169967313388366, 16.430532302946098, 14.910721712927593, 15.133356641638377, 14.275510138010134, 14.22198508191155, 14.227838256514726, 13.56682747077484, 14.293139227921834, 14.543465569251573, 14.571163624244976]\n",
      "fit2 : [16.795516342962166, 16.18863603716545, 14.695392347116492, 12.958018230390655, 16.436015030750536, 13.654775038119029, 14.888856611225034, 14.41203345233161, 16.15330882352941, 16.798214867569705, 13.345560191161105, 14.895407333894177, 16.471654291700727, 15.28655233655234, 14.519833603657975, 16.313056680161942, 15.627272727272729, 14.023277651141427, 16.57980463980464, 16.063095700595706, 17.90280910609858, 15.046875789329345, 15.851967476967477, 15.90179001462485, 16.488297560282852, 14.862656828465656, 15.528869449264189, 14.089731102231104, 15.428700466200468, 16.007792207792207, 15.290529124400091, 15.679555724184883, 15.159701858598918, 16.023782290694058, 17.29603565658553, 14.28315476190476, 13.646852004204948, 14.182596570096567, 15.094335954078602, 17.814548722602257, 14.532134240028975, 15.245109781522824, 14.406490439385175, 15.554424036984514, 14.795823829163613, 14.585368104118105, 16.04332426474454, 14.891388673320966, 14.759622541201491, 16.706816796464633, 13.3895202020202, 16.354599313655044, 16.333252042075568, 12.85894660894661, 16.25273188497326, 14.675601495739953, 14.205759924940958, 16.014721879427764, 18.52403846153846, 16.36689202395472, 15.38479058949008, 11.881593695215985, 18.239375901875903, 14.094486522679247, 14.47827231248284, 15.25130841380842, 15.086198341132551, 14.502821038358698, 15.839934820081886, 16.02102897102897, 14.242798174048175, 15.629043587131825, 17.60150706781141, 15.290159475027895, 14.59015992177757, 13.695535265388207, 16.610350760350766, 15.045441619783725, 15.79438722197343, 16.140625083728533, 14.644171106671104, 15.111026759188519, 16.969106478317006, 13.502485014985012, 14.035732894556427, 13.107091193120604, 14.155284992784987, 13.197969943712977, 15.779514507231898, 14.515648094595461, 15.451423289354324, 14.640797682709447, 15.80537152905574, 15.433123358123357, 13.866268249724133, 15.149817502758676, 15.189028223238754, 12.459646452581241, 14.998714636163921, 12.571925534835852]\n"
     ]
    },
    {
     "data": {
      "image/png": "[encoded data removed]",
      "text/plain": [
       "<Figure size 640x480 with 1 Axes>"
      ]
     },
     "metadata": {},
     "output_type": "display_data"
    },
    {
     "data": {
      "image/png": "[encoded data removed]",
      "text/plain": [
       "<Figure size 640x480 with 1 Axes>"
      ]
     },
     "metadata": {},
     "output_type": "display_data"
    }
   ],
   "source": [
    "import matplotlib.pyplot as plt\n",
    "\n",
    "# pop = create(amazon_G.nodes, A, conversiones)\n",
    "\n",
    "print(f\"long {len(evolved_pop)}\")\n",
    "fits1 = []\n",
    "fits2 = []\n",
    "\n",
    "for ind in evolved_pop:\n",
    "    fits1.append(fit_average_odf(amazon_G, ind, conversiones))\n",
    "    fits2.append(fit_Q(amazon_G, ind, conversiones))\n",
    "\n",
    "print(f\"fit1 : {fits1}\")\n",
    "print(f\"fit2 : {fits2}\")\n",
    "\n",
    "plt.scatter(fits1, fits2)\n",
    "plt.xlabel('fit_average_odf')\n",
    "plt.ylabel('fit_Q')\n",
    "\n",
    "plt.show()\n",
    "\n",
    "fits1 = []\n",
    "fits2 = []\n",
    "\n",
    "for ind in pop:\n",
    "    fits1.append(fit_average_odf(amazon_G, ind, conversiones))\n",
    "    fits2.append(fit_Q(amazon_G, ind, conversiones))\n",
    "\n",
    "plt.scatter(fits1, fits2)\n",
    "plt.xlabel('fit_average_odf')\n",
    "plt.ylabel('fit_Q')\n",
    "\n",
    "plt.show()\n"
   ]
  },
  {
   "cell_type": "code",
   "execution_count": 17,
   "metadata": {},
   "outputs": [
    {
     "ename": "IndexError",
     "evalue": "list index out of range",
     "output_type": "error",
     "traceback": [
      "\u001b[1;31m---------------------------------------------------------------------------\u001b[0m",
      "\u001b[1;31mIndexError\u001b[0m                                Traceback (most recent call last)",
      "Cell \u001b[1;32mIn[17], line 1\u001b[0m\n\u001b[1;32m----> 1\u001b[0m get_comunidades(\u001b[43mevolved_pop\u001b[49m\u001b[43m[\u001b[49m\u001b[38;5;241;43m0\u001b[39;49m\u001b[43m]\u001b[49m)\n",
      "\u001b[1;31mIndexError\u001b[0m: list index out of range"
     ]
    }
   ],
   "source": [
    "get_comunidades(evolved_pop[0])"
   ]
  }
 ],
 "metadata": {
  "kernelspec": {
   "display_name": "geneticos",
   "language": "python",
   "name": "python3"
  },
  "language_info": {
   "codemirror_mode": {
    "name": "ipython",
    "version": 3
   },
   "file_extension": ".py",
   "mimetype": "text/x-python",
   "name": "python",
   "nbconvert_exporter": "python",
   "pygments_lexer": "ipython3",
   "version": "3.12.1"
  }
 },
 "nbformat": 4,
 "nbformat_minor": 2
}
